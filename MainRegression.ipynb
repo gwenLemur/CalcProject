{
  "cells": [
    {
      "cell_type": "markdown",
      "metadata": {
        "id": "view-in-github",
        "colab_type": "text"
      },
      "source": [
        "<a href=\"https://colab.research.google.com/github/gwenLemur/CalcProject/blob/main/MainRegression.ipynb\" target=\"_parent\"><img src=\"https://colab.research.google.com/assets/colab-badge.svg\" alt=\"Open In Colab\"/></a>"
      ]
    },
    {
      "cell_type": "code",
      "execution_count": null,
      "metadata": {
        "id": "EjOoKJazwe0W"
      },
      "outputs": [],
      "source": [
        "import numpy as np\n",
        "import matplotlib\n",
        "import matplotlib.pyplot as plt\n",
        "import pandas as pd\n",
        "%matplotlib inline\n",
        "from sklearn import datasets\n",
        "from sklearn.model_selection import train_test_split\n",
        "from sklearn.linear_model import LinearRegression\n",
        "from sklearn.linear_model import Lasso\n",
        "from sklearn.linear_model import Ridge"
      ]
    },
    {
      "cell_type": "code",
      "execution_count": 25,
      "metadata": {
        "id": "KR-q6CIawe0a",
        "colab": {
          "base_uri": "https://localhost:8080/",
          "height": 70
        },
        "outputId": "819d2650-3cad-4a75-9773-2a5faaf4834b"
      },
      "outputs": [
        {
          "output_type": "stream",
          "name": "stdout",
          "text": [
            "(10, 2) (10, 1)\n"
          ]
        },
        {
          "output_type": "execute_result",
          "data": {
            "text/plain": [
              "\"\\ntfeature = pd.read_csv('https://raw.githubusercontent.com/ajn313/NYU2023SummerML3/main/Day5/fish_market_test_feature.csv')\\ntlabel = pd.read_csv('https://raw.githubusercontent.com/ajn313/NYU2023SummerML3/main/Day5/fish_market_test_label.csv')\\nXtest = tfeature.values\\nYtest = tlabel.values\\nYtest.reshape((-1,1))\\n\\nprint(Xtest.shape, Ytest.shape)\\n\""
            ],
            "application/vnd.google.colaboratory.intrinsic+json": {
              "type": "string"
            }
          },
          "metadata": {},
          "execution_count": 25
        }
      ],
      "source": [
        "feature = pd.read_csv('https://raw.githubusercontent.com/gwenLemur/CalcProject/main/factor.csv')\n",
        "label = pd.read_csv('https://raw.githubusercontent.com/gwenLemur/CalcProject/main/result.csv')\n",
        "Xtrain = feature.values\n",
        "Ytrain = label.values\n",
        "Ytrain.reshape((-1,1))\n",
        "\n",
        "print(Xtrain.shape, Ytrain.shape)\n",
        "'''\n",
        "tfeature = pd.read_csv('https://raw.githubusercontent.com/ajn313/NYU2023SummerML3/main/Day5/fish_market_test_feature.csv')\n",
        "tlabel = pd.read_csv('https://raw.githubusercontent.com/ajn313/NYU2023SummerML3/main/Day5/fish_market_test_label.csv')\n",
        "Xtest = tfeature.values\n",
        "Ytest = tlabel.values\n",
        "Ytest.reshape((-1,1))\n",
        "\n",
        "print(Xtest.shape, Ytest.shape)\n",
        "'''"
      ]
    },
    {
      "cell_type": "code",
      "execution_count": 27,
      "metadata": {
        "id": "lPKPceqoNv_v"
      },
      "outputs": [],
      "source": [
        "Xtrain, Xval, Ytrain, Yval = train_test_split(Xtrain, Ytrain, test_size=5, random_state=10, shuffle=True, stratify=None)"
      ]
    },
    {
      "cell_type": "code",
      "source": [
        "# Hint:\n",
        "# Do you need to split the dataset?\n",
        "# How to prediction? Features?\n",
        "# Polynomial? Order? Would it be overfitting?\n",
        "# Loss function?\n",
        "# Plot?\n",
        "\n",
        "# Go over the past slides and labs!"
      ],
      "metadata": {
        "id": "iHrLoGT6N0f9"
      },
      "execution_count": 28,
      "outputs": []
    },
    {
      "cell_type": "code",
      "source": [
        "# linear regression model and MSE:\n",
        "feat=label.columns.to_list()\n",
        "\n",
        "\n",
        "X = label[feat].values\n",
        "regr = LinearRegression(fit_intercept=True)\n",
        "regr.fit(Xtrain,Ytrain)\n",
        "\n",
        "\n",
        "yTrainPred = regr.predict(Xtrain) # Model prediction\n",
        "print(yTrainPred.shape)\n",
        "\n",
        "\n",
        "yValPred = regr.predict(Xval)\n",
        "\n",
        "\n",
        "#MSE\n",
        "mse_yTrain = np.mean(np.sqrt((Ytrain-yTrainPred)**2))\n",
        "mse_yVal = np.mean(np.sqrt((Yval-yValPred)**2))\n",
        "print(\"MSE Train: \", mse_yTrain)\n",
        "print(\"MSE Val: \",mse_yVal)\n",
        "\n",
        "\n",
        "fig1 = plt.figure(figsize=(8,3))\n",
        "plt.title('Linear Regression Train')\n",
        "plt.ylabel('weight')\n",
        "plt.xlabel('x')\n",
        "plt.plot(Xtrain, Ytrain, 'c+')\n",
        "plt.plot(Xtrain, yTrainPred, 'r+')\n",
        "\n",
        "\n",
        "fig3 = plt.figure(figsize=(8,3))\n",
        "plt.title('Linear Regression Val')\n",
        "plt.ylabel('weight')\n",
        "plt.xlabel('x')\n",
        "plt.plot(Xval, Yval, 'c+')\n",
        "plt.plot(Xval, yValPred, 'r+')"
      ],
      "metadata": {
        "colab": {
          "base_uri": "https://localhost:8080/",
          "height": 736
        },
        "id": "PFd98yaJETdP",
        "outputId": "48217d67-8ddd-4ef3-ba54-4f2f769468dc"
      },
      "execution_count": 29,
      "outputs": [
        {
          "output_type": "stream",
          "name": "stdout",
          "text": [
            "(5, 1)\n",
            "MSE Train:  2.3092638912203257e-15\n",
            "MSE Val:  1.5987211554602255e-15\n"
          ]
        },
        {
          "output_type": "execute_result",
          "data": {
            "text/plain": [
              "[<matplotlib.lines.Line2D at 0x7e8507748790>,\n",
              " <matplotlib.lines.Line2D at 0x7e8507947f50>]"
            ]
          },
          "metadata": {},
          "execution_count": 29
        },
        {
          "output_type": "display_data",
          "data": {
            "text/plain": [
              "<Figure size 800x300 with 1 Axes>"
            ],
            "image/png": "[encoded data removed]"
          },
          "metadata": {}
        },
        {
          "output_type": "display_data",
          "data": {
            "text/plain": [
              "<Figure size 800x300 with 1 Axes>"
            ],
            "image/png": "[encoded data removed]"
          },
          "metadata": {}
        }
      ]
    }
  ],
  "metadata": {
    "colab": {
      "provenance": [],
      "include_colab_link": true
    },
    "kernelspec": {
      "display_name": "Python 3",
      "language": "python",
      "name": "python3"
    },
    "language_info": {
      "codemirror_mode": {
        "name": "ipython",
        "version": 3
      },
      "file_extension": ".py",
      "mimetype": "text/x-python",
      "name": "python",
      "nbconvert_exporter": "python",
      "pygments_lexer": "ipython3",
      "version": "3.7.0"
    },
    "latex_envs": {
      "LaTeX_envs_menu_present": true,
      "autoclose": true,
      "autocomplete": true,
      "bibliofile": "biblio.bib",
      "cite_by": "apalike",
      "current_citInitial": 1,
      "eqLabelWithNumbers": true,
      "eqNumInitial": 1,
      "hotkeys": {
        "equation": "Ctrl-E",
        "itemize": "Ctrl-I"
      },
      "labels_anchors": false,
      "latex_user_defs": false,
      "report_style_numbering": false,
      "user_envs_cfg": false
    }
  },
  "nbformat": 4,
  "nbformat_minor": 0
}