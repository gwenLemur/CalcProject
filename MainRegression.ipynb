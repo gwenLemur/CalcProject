{
  "cells": [
    {
      "cell_type": "markdown",
      "metadata": {
        "id": "view-in-github",
        "colab_type": "text"
      },
      "source": [
        "<a href=\"https://colab.research.google.com/github/gwenLemur/CalcProject/blob/main/MainRegression.ipynb\" target=\"_parent\"><img src=\"https://colab.research.google.com/assets/colab-badge.svg\" alt=\"Open In Colab\"/></a>"
      ]
    },
    {
      "cell_type": "code",
      "execution_count": null,
      "metadata": {
        "id": "EjOoKJazwe0W"
      },
      "outputs": [],
      "source": [
        "import numpy as np\n",
        "import matplotlib\n",
        "import matplotlib.pyplot as plt\n",
        "import pandas as pd\n",
        "%matplotlib inline\n",
        "from sklearn import datasets\n",
        "from sklearn.model_selection import train_test_split\n",
        "from sklearn.linear_model import LinearRegression\n",
        "from sklearn.linear_model import Lasso\n",
        "from sklearn.linear_model import Ridge"
      ]
    },
    {
      "cell_type": "code",
      "source": [
        "#get a single factor values\n",
        "def getColumn(arr, index):\n",
        "  arrSlim = arr[:, index]\n",
        "  return arrSlim\n"
      ],
      "metadata": {
        "id": "fejJ-9Usrb0j"
      },
      "execution_count": 56,
      "outputs": []
    },
    {
      "cell_type": "code",
      "execution_count": 57,
      "metadata": {
        "id": "KR-q6CIawe0a",
        "colab": {
          "base_uri": "https://localhost:8080/"
        },
        "outputId": "57bbe80a-435d-4cb2-da13-c85cc0f59774"
      },
      "outputs": [
        {
          "output_type": "stream",
          "name": "stdout",
          "text": [
            "(10, 1) (10, 1)\n"
          ]
        }
      ],
      "source": [
        "feature = pd.read_csv('https://raw.githubusercontent.com/gwenLemur/CalcProject/main/factor.csv')\n",
        "label = pd.read_csv('https://raw.githubusercontent.com/gwenLemur/CalcProject/main/result.csv')\n",
        "XtrainMulti = feature.values\n",
        "Ytrain = label.values\n",
        "#get a single factor values\n",
        "Xtrain = getColumn(XtrainMulti, 0)\n",
        "#make into column\n",
        "Xtrain = Xtrain.reshape(-1,1)\n",
        "Ytrain = Ytrain.reshape(-1,1)\n",
        "\n",
        "print(Xtrain.shape, Ytrain.shape)\n"
      ]
    },
    {
      "cell_type": "code",
      "execution_count": 58,
      "metadata": {
        "id": "lPKPceqoNv_v"
      },
      "outputs": [],
      "source": [
        "Xtrain, Xval, Ytrain, Yval = train_test_split(Xtrain, Ytrain, test_size=5, random_state=10, shuffle=True, stratify=None)"
      ]
    },
    {
      "cell_type": "code",
      "source": [
        "# linear regression model and MSE:\n",
        "feat=label.columns.to_list()\n",
        "\n",
        "\n",
        "X = label[feat].values\n",
        "regr = LinearRegression(fit_intercept=True)\n",
        "regr.fit(Xtrain,Ytrain)\n",
        "\n",
        "\n",
        "yTrainPred = regr.predict(Xtrain) # Model prediction\n",
        "print(yTrainPred.shape)\n",
        "\n",
        "\n",
        "yValPred = regr.predict(Xval)\n",
        "\n",
        "\n",
        "#MSE\n",
        "mse_yTrain = np.mean(np.sqrt((Ytrain-yTrainPred)**2))\n",
        "mse_yVal = np.mean(np.sqrt((Yval-yValPred)**2))\n",
        "print(\"MSE Train: \", mse_yTrain)\n",
        "print(\"MSE Val: \",mse_yVal)\n",
        "\n",
        "\n",
        "fig1 = plt.figure(figsize=(8,3))\n",
        "plt.title('Linear Regression Train')\n",
        "plt.ylabel('weight')\n",
        "plt.xlabel('x')\n",
        "plt.plot(Xtrain, Ytrain, 'c+')\n",
        "plt.plot(Xtrain, yTrainPred, 'r+')\n",
        "\n",
        "\n",
        "fig3 = plt.figure(figsize=(8,3))\n",
        "plt.title('Linear Regression Val')\n",
        "plt.ylabel('weight')\n",
        "plt.xlabel('x')\n",
        "plt.plot(Xval, Yval, 'c+')\n",
        "plt.plot(Xval, yValPred, 'r+')"
      ],
      "metadata": {
        "colab": {
          "base_uri": "https://localhost:8080/",
          "height": 718
        },
        "id": "PFd98yaJETdP",
        "outputId": "10867881-9316-4b8f-8038-6d5deedc28c6"
      },
      "execution_count": 59,
      "outputs": [
        {
          "output_type": "stream",
          "name": "stdout",
          "text": [
            "(5, 1)\n",
            "MSE Train:  0.48979591836734715\n",
            "MSE Val:  0.49795918367346914\n"
          ]
        },
        {
          "output_type": "execute_result",
          "data": {
            "text/plain": [
              "[<matplotlib.lines.Line2D at 0x7e8507e10350>]"
            ]
          },
          "metadata": {},
          "execution_count": 59
        },
        {
          "output_type": "display_data",
          "data": {
            "text/plain": [
              "<Figure size 800x300 with 1 Axes>"
            ],
            "image/png": "[encoded data removed]"
          },
          "metadata": {}
        },
        {
          "output_type": "display_data",
          "data": {
            "text/plain": [
              "<Figure size 800x300 with 1 Axes>"
            ],
            "image/png": "[encoded data removed]"
          },
          "metadata": {}
        }
      ]
    }
  ],
  "metadata": {
    "colab": {
      "provenance": [],
      "include_colab_link": true
    },
    "kernelspec": {
      "display_name": "Python 3",
      "language": "python",
      "name": "python3"
    },
    "language_info": {
      "codemirror_mode": {
        "name": "ipython",
        "version": 3
      },
      "file_extension": ".py",
      "mimetype": "text/x-python",
      "name": "python",
      "nbconvert_exporter": "python",
      "pygments_lexer": "ipython3",
      "version": "3.7.0"
    },
    "latex_envs": {
      "LaTeX_envs_menu_present": true,
      "autoclose": true,
      "autocomplete": true,
      "bibliofile": "biblio.bib",
      "cite_by": "apalike",
      "current_citInitial": 1,
      "eqLabelWithNumbers": true,
      "eqNumInitial": 1,
      "hotkeys": {
        "equation": "Ctrl-E",
        "itemize": "Ctrl-I"
      },
      "labels_anchors": false,
      "latex_user_defs": false,
      "report_style_numbering": false,
      "user_envs_cfg": false
    }
  },
  "nbformat": 4,
  "nbformat_minor": 0
}